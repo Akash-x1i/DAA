{
 "cells": [
  {
   "cell_type": "markdown",
   "id": "c8093449-eddd-42ea-bc27-4ea03dd62268",
   "metadata": {},
   "source": [
    "# Student 1 - Shouvik Samadder (Registration No.- 223001010641 / Roll No.- 30001222040, Section- A)"
   ]
  },
  {
   "cell_type": "markdown",
   "id": "b93c8910-f9b2-4d8e-8669-30f3fa824423",
   "metadata": {},
   "source": [
    "## Q1: Find Maximum and Minimum of an array using minimum number of comparisons."
   ]
  },
  {
   "cell_type": "code",
   "execution_count": 1,
   "id": "523b2072-512b-485a-9a8d-9b92f6bddca5",
   "metadata": {},
   "outputs": [
    {
     "name": "stdout",
     "output_type": "stream",
     "text": [
      "Minimum element is: 0\n",
      "Maximum element is: 9\n"
     ]
    }
   ],
   "source": [
    "def set_min(A):\n",
    "    mini = float('inf')\n",
    "    for num in A:\n",
    "        if num < mini:\n",
    "            mini = num\n",
    "    return mini\n",
    "\n",
    "def set_max(A):\n",
    "    maxi = float('-inf') \n",
    "    for num in A:\n",
    "        if num > maxi:\n",
    "            maxi = num\n",
    "    return maxi\n",
    "\n",
    "#Driver code\n",
    "if __name__ == \"__main__\":\n",
    "    A = [5, 7, 2, 1, 9, 0]\n",
    "    N = len(A)\n",
    "    print(\"Minimum element is:\", set_min(A))\n",
    "    print(\"Maximum element is:\", set_max(A))"
   ]
  },
  {
   "cell_type": "markdown",
   "id": "740431fc-1f6d-4131-b1b1-28fa5fefc00b",
   "metadata": {},
   "source": [
    "## Q2: Find Maximum and Minimum of an array using sorting."
   ]
  },
  {
   "cell_type": "code",
   "execution_count": 2,
   "id": "1d34ec87-19c6-4411-bfe7-9c2169029875",
   "metadata": {},
   "outputs": [
    {
     "name": "stdout",
     "output_type": "stream",
     "text": [
      "Minimum: 1\n",
      "Maximum: 8\n"
     ]
    }
   ],
   "source": [
    "def getmaxmin(arr):\n",
    "    arr.sort()\n",
    "    minmax = {\"min\": arr[0], \"max\": arr[-1]}\n",
    "    return minmax\n",
    "\n",
    "arr = [1, 4, 7, 8, 3, 6]\n",
    "minmax = getmaxmin(arr)\n",
    "print(\"Minimum:\", minmax[\"min\"])\n",
    "print(\"Maximum:\", minmax[\"max\"])"
   ]
  },
  {
   "cell_type": "markdown",
   "id": "006558fe-76fd-4bd1-b2fc-37ac9b0a6f2e",
   "metadata": {},
   "source": [
    "## Q3: Find Maximum and Minimum of an array using Linear Search."
   ]
  },
  {
   "cell_type": "code",
   "execution_count": 3,
   "id": "b7d35f1a-684f-4b77-8ce2-726705c93009",
   "metadata": {},
   "outputs": [
    {
     "name": "stdout",
     "output_type": "stream",
     "text": [
      "Minimum element is: 1\n",
      "Maximum element is: 10\n"
     ]
    }
   ],
   "source": [
    "class pair:\n",
    "    def __init__(self):\n",
    "        self.min = 0\n",
    "        self.max = 0\n",
    "        \n",
    "def getMinMax (arr: list, n: int) -> pair:\n",
    "    minmax = pair()\n",
    "    if n == 1:\n",
    "        minmax.max = arr[0]\n",
    "        minmax.min = arr[0]\n",
    "        return minmax\n",
    "\n",
    "    if arr[0] > arr[1]:\n",
    "        minmax.max = arr[0]\n",
    "        minmax.min = arr [1]\n",
    "    else:\n",
    "        minmax.max = arr[1]\n",
    "        minmax.min = arr[0]\n",
    "        \n",
    "    for i in range (2, n):\n",
    "        if arr[i] > minmax.max:\n",
    "            minmax.max = arr[i]\n",
    "        elif arr[i] < minmax.min:\n",
    "            minmax.min = arr[i]\n",
    "            \n",
    "    return minmax\n",
    "\n",
    "if __name__ == \"__main__\":\n",
    "    arr = [9, 3, 4, 10, 5, 7, 2, 1]\n",
    "    arr_size = 8\n",
    "    minmax = getMinMax(arr, arr_size)\n",
    "    print(\"Minimum element is:\", minmax.min)\n",
    "    print(\"Maximum element is:\", minmax.max)"
   ]
  },
  {
   "cell_type": "markdown",
   "id": "8791ff2b-e760-4902-a922-341e6d7a9862",
   "metadata": {},
   "source": [
    "## Q4: Find Maximum and Minimum of an array using the Tournament Method:"
   ]
  },
  {
   "cell_type": "code",
   "execution_count": 4,
   "id": "8e4770c7-7683-4aa9-9e48-88cc3a7e5adc",
   "metadata": {},
   "outputs": [
    {
     "name": "stdout",
     "output_type": "stream",
     "text": [
      "Minimum element is  1\n",
      "nMaximum element is  10\n"
     ]
    }
   ],
   "source": [
    "def getMinMax(low, high, arr):\n",
    "    arr_max = arr[low]\n",
    "    arr_min = arr[low]\n",
    "    if low == high:\n",
    "        arr_max = arr[low]\n",
    "        arr_min = arr[low]\n",
    "        return (arr_max, arr_min)\n",
    "    elif high == low + 1:\n",
    "        if arr[low] > arr[high]:\n",
    "            arr_max = arr[low]\n",
    "            arr_min = arr[high]\n",
    "        else:\n",
    "            arr_max = arr[high]\n",
    "            arr_min = arr[low]\n",
    "        return (arr_max, arr_min)\n",
    "    else:\n",
    "        mid = int((low + high) / 2)\n",
    "        arr_max1, arr_min1 = getMinMax(low, mid, arr)\n",
    "        arr_max2, arr_min2 = getMinMax(mid + 1, high, arr)\n",
    "\n",
    "    return (max(arr_max1, arr_max2), min(arr_min1, arr_min2))\n",
    "\n",
    "arr = [6, 10, 4, 1, 3, 5]\n",
    "high = len(arr) - 1\n",
    "low = 0\n",
    "arr_max, arr_min = getMinMax(low, high, arr)\n",
    "print('Minimum element is ', arr_min)\n",
    "print('nMaximum element is ', arr_max)"
   ]
  },
  {
   "cell_type": "markdown",
   "id": "3f7e4aad-ae14-4586-b104-6c55c70f218b",
   "metadata": {},
   "source": [
    "## Q5: Find Maximum and Minimum of an array by comparing in pairs."
   ]
  },
  {
   "cell_type": "code",
   "execution_count": 5,
   "id": "48c75c3d-dbc6-40c3-bbad-3c1698cf02bf",
   "metadata": {},
   "outputs": [
    {
     "name": "stdout",
     "output_type": "stream",
     "text": [
      "Minimum element is 0\n",
      "Maximum element is 6\n"
     ]
    }
   ],
   "source": [
    "def getMinMax(arr):\n",
    "    n = len(arr)\n",
    "    if(n % 2 == 0):\n",
    "        if arr[0] < arr[1]:\n",
    "            mn = arr[0]\n",
    "            mx = arr[1]\n",
    "        else:\n",
    "            mn = arr[1]\n",
    "            mx = arr[0]\n",
    "        i = 2\n",
    "    else:\n",
    "        mx = mn = arr[0]\n",
    "        i = 1\n",
    "    while(i < n - 1):\n",
    "        if arr[i] < arr[i + 1]:\n",
    "            mx = max(mx, arr[i + 1])\n",
    "            mn = min(mn, arr[i])\n",
    "        else:\n",
    "            mx = max(mx, arr[i])\n",
    "            mn = min(mn, arr[i + 1])\n",
    "        i += 2\n",
    "    \n",
    "    return (mx, mn)\n",
    "    \n",
    "if __name__ =='__main__':\n",
    "    \n",
    "    arr = [3, 5, 4, 1, 0, 6]\n",
    "    mx, mn = getMinMax(arr)\n",
    "    print(\"Minimum element is\", mn)\n",
    "    print(\"Maximum element is\", mx)"
   ]
  },
  {
   "cell_type": "markdown",
   "id": "cd6189b6-7424-4a43-b4d8-26315387b6b8",
   "metadata": {},
   "source": [
    "## Q6: Find Maximum and Minimum elements from an array of integers using divide and conquer strategy."
   ]
  },
  {
   "cell_type": "code",
   "execution_count": 6,
   "id": "ad227de4-f7fb-489f-bc48-34012b951992",
   "metadata": {},
   "outputs": [
    {
     "name": "stdout",
     "output_type": "stream",
     "text": [
      "Maximum element is: 10\n",
      "Minimum element is: 1\n"
     ]
    }
   ],
   "source": [
    "def max_min_divide_conquer(arr, low, high):\n",
    "    class Pair:\n",
    "        def __init__(self):\n",
    "            self.max = 0\n",
    "            self.min = 0\n",
    "    result = Pair()\n",
    "    if low == high:\n",
    "        result.max = arr[low]\n",
    "        result.min = arr[low]\n",
    "        return result\n",
    "    if high == low + 1:\n",
    "        if arr[low] < arr[high]:\n",
    "            result.min = arr[low]\n",
    "            result.max = arr[high]\n",
    "        else:\n",
    "            result.min = arr[high]\n",
    "            result.max = arr[low]\n",
    "        return result\n",
    "    mid = (low + high) // 2\n",
    "    left = max_min_divide_conquer(arr, low, mid)\n",
    "    right = max_min_divide_conquer(arr, mid + 1, high)\n",
    "    result.max = max(left.max, right.max)\n",
    "    result.min = min(left.min, right.min)\n",
    "    return result\n",
    "arr = [6, 4, 2, 1, 3, 10, 8]\n",
    "result = max_min_divide_conquer(arr, 0, len(arr) - 1)\n",
    "print(\"Maximum element is:\", result.max)\n",
    "print(\"Minimum element is:\", result.min)"
   ]
  },
  {
   "cell_type": "markdown",
   "id": "1f02dba9-3e12-4e69-abab-d1200f1251cf",
   "metadata": {},
   "source": [
    "# Student 2 - Koyel Bhowmick (Registration No.- 223001010642 / Roll No.- 30001222041, Section- A)"
   ]
  },
  {
   "cell_type": "markdown",
   "id": "c0c93618-c5c0-46ea-9d62-cfa8d278c11a",
   "metadata": {},
   "source": [
    "## Q7: Implement Merge Sort in Python."
   ]
  },
  {
   "cell_type": "code",
   "execution_count": 7,
   "id": "122fca3a-9d9d-488f-ad53-bf6b34ec48ab",
   "metadata": {},
   "outputs": [
    {
     "name": "stdout",
     "output_type": "stream",
     "text": [
      "Given array:\n",
      "4 9 6 5 2 3\n",
      "Sorted array:\n",
      "2 3 4 5 6 9\n"
     ]
    }
   ],
   "source": [
    "def merge(arr1, arr2):\n",
    "    result = []\n",
    "    i = 0\n",
    "    j = 0\n",
    "    while i < len(arr1) and j < len(arr2):\n",
    "        if arr2[j] > arr1[i]:\n",
    "            result.append(arr1[i])\n",
    "            i += 1\n",
    "        else:\n",
    "            result.append(arr2[j])\n",
    "            j += 1\n",
    "\n",
    "    while i < len(arr1):\n",
    "        result.append(arr1[i])\n",
    "        i += 1\n",
    "    while j < len(arr2):\n",
    "        result.append(arr2[j])\n",
    "        j += 1\n",
    "\n",
    "    return result\n",
    "\n",
    "def mergesort(arr):\n",
    "    if len(arr) <= 1:\n",
    "        return arr\n",
    "    mid = len(arr) // 2\n",
    "    left = mergesort(arr[:mid])\n",
    "    right = mergesort(arr[mid:])\n",
    "\n",
    "    return merge(left, right)\n",
    "\n",
    "\n",
    "if __name__ == \"__main__\":\n",
    "    arr = [4, 9, 6, 5, 2, 3]\n",
    "    print(\"Given array:\")\n",
    "    print(*arr)\n",
    "    arr = mergesort(arr)\n",
    "    print(\"Sorted array:\")\n",
    "    print(*arr)"
   ]
  },
  {
   "cell_type": "markdown",
   "id": "4b3a6998-a16b-4a76-809d-ba8dfb0a189c",
   "metadata": {},
   "source": [
    "## Q8: Implement Quick Sort in Python."
   ]
  },
  {
   "cell_type": "code",
   "execution_count": 8,
   "id": "6e9852ff-29c7-4cec-8abb-37baafcf87b8",
   "metadata": {},
   "outputs": [
    {
     "name": "stdout",
     "output_type": "stream",
     "text": [
      "Unsorted Array\n",
      "[10, 17, 64, 21, 1, 94, 50]\n",
      "Sorted Array in Ascending Order: \n",
      "[1, 10, 17, 21, 50, 64, 94]\n"
     ]
    }
   ],
   "source": [
    "def partition (array, low, high):\n",
    "    pivot = array[high]\n",
    "    i = low - 1\n",
    "    for j in range (low, high):\n",
    "        if array[j] <= pivot:\n",
    "            i = i + 1\n",
    "            (array[i], array [j]) = (array [j], array[i])\n",
    "    (array[i+1], array [high]) = (array [high], array[i + 1])\n",
    "    return i + 1\n",
    "\n",
    "def quickSort (array, low, high):\n",
    "    if low < high:\n",
    "        pi = partition (array, low, high)\n",
    "        quickSort (array, low, pi - 1)\n",
    "        quickSort (array, pi+ 1, high)\n",
    "    \n",
    "data = [10, 17, 64, 21, 1, 94, 50]\n",
    "print(\"Unsorted Array\")\n",
    "print(data)\n",
    "\n",
    "size = len(data)\n",
    "\n",
    "quickSort (data, 0, size - 1)\n",
    "\n",
    "print('Sorted Array in Ascending Order: ')\n",
    "print (data)"
   ]
  },
  {
   "cell_type": "markdown",
   "id": "fce97831-b9b3-4bff-ae7f-8dfe1e4c62b2",
   "metadata": {},
   "source": [
    "## Q9: Implement Quick Sort using list comprehension in Python."
   ]
  },
  {
   "cell_type": "code",
   "execution_count": 9,
   "id": "84abf85b-088f-4bf7-973c-8f2c07dc2176",
   "metadata": {},
   "outputs": [
    {
     "name": "stdout",
     "output_type": "stream",
     "text": [
      "Sorted array:\n",
      "[2, 3, 4, 5, 6, 9]\n"
     ]
    }
   ],
   "source": [
    "def quicksort(arr):\n",
    "    if len(arr) <= 1:\n",
    "        return arr\n",
    "    else:\n",
    "        pivot = arr[0]\n",
    "        left = [x for x in arr[1:] if x < pivot]\n",
    "        right = [x for x in arr[1:] if x >= pivot]\n",
    "        return quicksort(left) + [pivot] + quicksort(right)\n",
    "        \n",
    "arr = [4, 9, 6, 5, 2, 3]\n",
    "sorted_arr = quicksort(arr)\n",
    "print(\"Sorted array:\")\n",
    "print(sorted_arr)"
   ]
  },
  {
   "cell_type": "markdown",
   "id": "926fa6f9-4550-4a11-b232-00aa6c0a74b1",
   "metadata": {},
   "source": [
    "## Q10: Implement Heap Sort in Python."
   ]
  },
  {
   "cell_type": "code",
   "execution_count": 10,
   "id": "2b004d8a-e7b6-4006-a5ab-a76def93b88a",
   "metadata": {},
   "outputs": [
    {
     "name": "stdout",
     "output_type": "stream",
     "text": [
      "Sorted array is\n",
      "1\n",
      "3\n",
      "5\n",
      "6\n",
      "7\n",
      "9\n",
      "10\n"
     ]
    }
   ],
   "source": [
    "def heapify(arr, n, i):\n",
    "\tlargest = i\n",
    "\tl = 2 * i + 1\n",
    "\tr = 2 * i + 2\n",
    "\tif l < n and arr[i] < arr[l]:\n",
    "\t\tlargest = l\n",
    "\tif r < n and arr[largest] < arr[r]:\n",
    "\t\tlargest = r\n",
    "\tif largest != i:\n",
    "\t\t(arr[i], arr[largest]) = (arr[largest], arr[i])\n",
    "\t\theapify(arr, n, largest)\n",
    "def heapSort(arr):\n",
    "\tn = len(arr)\n",
    "\tfor i in range(n // 2, -1, -1):\n",
    "\t\theapify(arr, n, i)\n",
    "\tfor i in range(n - 1, 0, -1):\n",
    "\t\t(arr[i], arr[0]) = (arr[0], arr[i])\n",
    "\t\theapify(arr, i, 0)\n",
    "\n",
    "arr = [1, 10, 3, 5, 6, 7, 9]\n",
    "heapSort(arr)\n",
    "n = len(arr)\n",
    "print('Sorted array is')\n",
    "for i in range(n):\n",
    "\tprint(arr[i])"
   ]
  },
  {
   "cell_type": "markdown",
   "id": "77ebeccc-b852-46c4-a525-33f2246a83e8",
   "metadata": {},
   "source": [
    "# Student 3 - Taksin Raja (Registration No.- 223001010647 / Roll No.- 30001222046, Section- A)"
   ]
  },
  {
   "cell_type": "markdown",
   "id": "1c3e53af-c568-4234-a958-046bb69c1eec",
   "metadata": {},
   "source": [
    "## Q11: Set Manipulation Algorithm by Union-Find (Find Function, Union Function, Path Compression Modifications  to Find():).)"
   ]
  },
  {
   "cell_type": "markdown",
   "id": "e8979ece-79ae-4a1c-bab8-c8cb5fcdac88",
   "metadata": {},
   "source": [
    "### Find Function:"
   ]
  },
  {
   "cell_type": "code",
   "execution_count": 11,
   "id": "cfb30ce9-92ef-464f-a8d4-0942ac8e3f6d",
   "metadata": {},
   "outputs": [],
   "source": [
    "def find(i): \n",
    "\n",
    "\t# If i is the parent of itself \n",
    "\tif (parent[i] == i): \n",
    "\n",
    "\t\t# Then i is the representative of \n",
    "\t\t# this set \n",
    "\t\treturn i \n",
    "\telse: \n",
    "\n",
    "\t\t# Else if i is not the parent of \n",
    "\t\t# itself, then i is not the \n",
    "\t\t# representative of his set. So we \n",
    "\t\t# recursively call Find on its parent \n",
    "\t\treturn find(parent[i])"
   ]
  },
  {
   "cell_type": "markdown",
   "id": "7399b7f4-5673-4513-be79-48f5b9df4fe8",
   "metadata": {},
   "source": [
    "### Union Function:"
   ]
  },
  {
   "cell_type": "code",
   "execution_count": 12,
   "id": "1c95f7b8-5cc9-456a-9d1a-5c12e0a4c742",
   "metadata": {},
   "outputs": [],
   "source": [
    "def union(parent, rank, i, j): \n",
    "\t# Find the representatives \n",
    "\t# (or the root nodes) for the set \n",
    "\t# that includes i \n",
    "\tirep = find(parent, i) \n",
    "\t\n",
    "\t# And do the same for the set \n",
    "\t# that includes j \n",
    "\tjrep = find(parent, j) \n",
    "\t\n",
    "\t# Make the parent of i’s representative \n",
    "\t# be j’s representative effectively \n",
    "\t# moving all of i’s set into j’s set) \n",
    "\t\n",
    "\tparent[irep] = jrep "
   ]
  },
  {
   "cell_type": "markdown",
   "id": "51a67b90-2d56-4be5-8899-440d224fb704",
   "metadata": {},
   "source": [
    "### Path Compression (Modifications to Find()):"
   ]
  },
  {
   "cell_type": "code",
   "execution_count": 13,
   "id": "769803e3-ce04-4e3a-b3cc-c85418f769c1",
   "metadata": {},
   "outputs": [],
   "source": [
    "def find(i): \n",
    "\n",
    "\t# If i is the parent of itself \n",
    "\tif Parent[i] == i: \n",
    "\n",
    "\t\t# Then i is the representative \n",
    "\t\treturn i \n",
    "\telse: \n",
    "\n",
    "\t\t# Recursively find the representative. \n",
    "\t\tresult = find(Parent[i]) \n",
    "\n",
    "\t\t# We cache the result by moving i’s node \n",
    "\t\t# directly under the representative of this \n",
    "\t\t# set \n",
    "\t\tParent[i] = result \n",
    "\t\t\n",
    "\t\t# And then we return the result \n",
    "\t\treturn result"
   ]
  },
  {
   "cell_type": "markdown",
   "id": "f7b58150-45c3-47a2-a934-e64bbe542ea1",
   "metadata": {},
   "source": [
    "## Q12: Implement Union by Rank and Union by Size in Python."
   ]
  },
  {
   "cell_type": "markdown",
   "id": "d08df987-c47f-4090-92ab-c6d1080e8b30",
   "metadata": {},
   "source": [
    "### Union by Rank:"
   ]
  },
  {
   "cell_type": "code",
   "execution_count": 14,
   "id": "0bb67400-300f-4df1-9eab-d99003380b1e",
   "metadata": {},
   "outputs": [
    {
     "name": "stdout",
     "output_type": "stream",
     "text": [
      "Element 0 belongs to the set with representative 3\n",
      "Element 1 belongs to the set with representative 3\n",
      "Element 2 belongs to the set with representative 3\n",
      "Element 3 belongs to the set with representative 3\n",
      "Element 4 belongs to the set with representative 4\n"
     ]
    }
   ],
   "source": [
    "class DisjointSet: \n",
    "\tdef __init__(self, size): \n",
    "\t\tself.parent = [i for i in range(size)] \n",
    "\t\tself.rank = [0] * size \n",
    "\n",
    "\tdef find(self, i): \n",
    "\t\tif self.parent[i] != i: \n",
    "\t\t\tself.parent[i] = self.find(self.parent[i])\n",
    "\t\treturn self.parent[i] \n",
    "\n",
    "\tdef union_by_rank(self, i, j): \n",
    "\t\tirep = self.find(i) \n",
    "\t\tjrep = self.find(j) \n",
    "\t\tif irep == jrep: \n",
    "\t\t\treturn\n",
    "\t\tirank = self.rank[irep] \n",
    "\t\tjrank = self.rank[jrep] \n",
    "        \n",
    "\t\tif irank < jrank: \n",
    "\t\t\tself.parent[irep] = jrep \n",
    "\t\telif jrank < irank: \n",
    "\t\t\tself.parent[jrep] = irep \n",
    "\t\telse: \n",
    "\t\t\tself.parent[irep] = jrep \n",
    "\t\t\tself.rank[jrep] += 1\n",
    "\n",
    "\tdef main(self): \n",
    "\t\tsize = 5\n",
    "\t\tds = DisjointSet(size) \n",
    "\t\tds.union_by_rank(0, 1) \n",
    "\t\tds.union_by_rank(2, 3) \n",
    "\t\tds.union_by_rank(1, 3) \n",
    "\t\tfor i in range(size): \n",
    "\t\t\tprint(f\"Element {i} belongs to the set with representative {ds.find(i)}\") \n",
    "\n",
    "ds = DisjointSet(size=5) \n",
    "ds.main() "
   ]
  },
  {
   "cell_type": "markdown",
   "id": "4a298022-866a-4657-88da-185c141dfb18",
   "metadata": {},
   "source": [
    "### Union by Size:"
   ]
  },
  {
   "cell_type": "code",
   "execution_count": 15,
   "id": "73b1e9d0-61f7-4b81-98e9-9c4e9933399c",
   "metadata": {},
   "outputs": [
    {
     "name": "stdout",
     "output_type": "stream",
     "text": [
      "Element 0: Representative = 0\n",
      "Element 1: Representative = 0\n",
      "Element 2: Representative = 2\n",
      "Element 3: Representative = 2\n",
      "Element 4: Representative = 0\n"
     ]
    }
   ],
   "source": [
    "class UnionFind: \n",
    "\tdef __init__(self, n): \n",
    "\t\tself.Parent = list(range(n)) \n",
    "\t\tself.Size = [1] * n \n",
    "        \n",
    "\tdef find(self, i): \n",
    "\t\tif self.Parent[i] != i: \n",
    "\t\t\tself.Parent[i] = self.find(self.Parent[i]) \n",
    "\t\treturn self.Parent[i] \n",
    "\n",
    "\tdef unionBySize(self, i, j): \n",
    "\t\tirep = self.find(i) \n",
    "\t\tjrep = self.find(j) \n",
    "\t\tif irep == jrep: \n",
    "\t\t\treturn\n",
    "\t\tisize = self.Size[irep] \n",
    "\t\tjsize = self.Size[jrep] \n",
    "\n",
    "\t\tif isize < jsize: \n",
    "\t\t\tself.Parent[irep] = jrep \n",
    "\t\t\tself.Size[jrep] += self.Size[irep] \n",
    "\t\telse: \n",
    "\t\t\tself.Parent[jrep] = irep \n",
    "\t\t\tself.Size[irep] += self.Size[jrep] \n",
    "\n",
    "n = 5\n",
    "unionFind = UnionFind(n) \n",
    "\n",
    "# Perform union operations \n",
    "unionFind.unionBySize(0, 1) \n",
    "unionFind.unionBySize(2, 3) \n",
    "unionFind.unionBySize(0, 4) \n",
    "\n",
    "# Print the representative of each element after unions \n",
    "for i in range(n): \n",
    "\tprint(\"Element {}: Representative = {}\".format(i, unionFind.find(i)))"
   ]
  },
  {
   "cell_type": "markdown",
   "id": "77b3752d-51e0-41ee-acac-7b5de714a022",
   "metadata": {},
   "source": [
    "## Q13: The complete implementation of disjoint set with path compression and union by rank."
   ]
  },
  {
   "cell_type": "code",
   "execution_count": 16,
   "id": "5ae7ae49-96fc-4b87-a47d-48312ce94be6",
   "metadata": {},
   "outputs": [
    {
     "name": "stdout",
     "output_type": "stream",
     "text": [
      "Yes\n",
      "No\n"
     ]
    }
   ],
   "source": [
    "class DisjSet: \n",
    "\tdef __init__(self, n): \n",
    "\t\tself.rank = [1] * n \n",
    "\t\tself.parent = [i for i in range(n)] \n",
    "        \n",
    "\tdef find(self, x): \n",
    "\t\tif (self.parent[x] != x): \n",
    "\t\t\tself.parent[x] = self.find(self.parent[x]) \n",
    "\t\treturn self.parent[x] \n",
    "\n",
    "\tdef Union(self, x, y): \n",
    "\t\txset = self.find(x) \n",
    "\t\tyset = self.find(y) \n",
    "\t\tif xset == yset: \n",
    "\t\t\treturn\n",
    "\t\tif self.rank[xset] < self.rank[yset]: \n",
    "\t\t\tself.parent[xset] = yset \n",
    "\t\telif self.rank[xset] > self.rank[yset]: \n",
    "\t\t\tself.parent[yset] = xset \n",
    "\t\telse: \n",
    "\t\t\tself.parent[yset] = xset \n",
    "\t\t\tself.rank[xset] = self.rank[xset] + 1\n",
    "\n",
    "# Driver code \n",
    "obj = DisjSet(5) \n",
    "obj.Union(0, 2) \n",
    "obj.Union(4, 2) \n",
    "obj.Union(3, 1) \n",
    "if obj.find(4) == obj.find(0): \n",
    "\tprint('Yes') \n",
    "else: \n",
    "\tprint('No') \n",
    "if obj.find(1) == obj.find(0): \n",
    "\tprint('Yes') \n",
    "else: \n",
    "\tprint('No')"
   ]
  },
  {
   "cell_type": "markdown",
   "id": "25fd2c90-571a-45b8-a655-843f681bd67a",
   "metadata": {},
   "source": [
    "# Student 4 - Soumyajit Ghosh (Registration No.- 223001010648 / Roll No.- 30001222047, Section- A)"
   ]
  },
  {
   "cell_type": "markdown",
   "id": "d4a1e762-4fd6-4d5f-aa09-2aa210fce77a",
   "metadata": {},
   "source": [
    "## Q14: Activity Selection Problem."
   ]
  },
  {
   "cell_type": "code",
   "execution_count": 17,
   "id": "2a8ea019-8277-49ae-a1db-57fa2057458f",
   "metadata": {},
   "outputs": [
    {
     "name": "stdout",
     "output_type": "stream",
     "text": [
      "Following activities are selected\n",
      "0\n",
      "1\n",
      "2\n",
      "3\n",
      "4\n"
     ]
    }
   ],
   "source": [
    "def printMaxActivities(s, f):\n",
    "    n = len(f)\n",
    "    print (\"Following activities are selected\")\n",
    "    i = 0\n",
    "    print (i)\n",
    "    for j in range(1, n):\n",
    "        if s[j] >= f[i]:\n",
    "            print (j)\n",
    "            i = j\n",
    "            \n",
    "# Driver code\n",
    "if __name__ == '__main__':\n",
    "    s = [23, 36, 40, 56, 84, 55]\n",
    "    f = [3, 15, 8, 74, 63, 90]\n",
    "    printMaxActivities(s, f)"
   ]
  },
  {
   "cell_type": "markdown",
   "id": "d65dce0d-4a33-4435-b0a6-51e8becfc3b5",
   "metadata": {},
   "source": [
    "## Q15: Fractional Knapsack Problem."
   ]
  },
  {
   "cell_type": "code",
   "execution_count": 18,
   "id": "48204dd8-b02f-4421-8aaa-9a0c8c93a4eb",
   "metadata": {},
   "outputs": [
    {
     "name": "stdout",
     "output_type": "stream",
     "text": [
      "110.0\n"
     ]
    }
   ],
   "source": [
    "class Item:\n",
    "    def __init__(self, profit, weight):\n",
    "        self.profit = profit\n",
    "        self.weight = weight\n",
    "\n",
    "def fractionalKnapsack(W, arr):\n",
    "    arr.sort(key = lambda x: (x.profit/x.weight), reverse=True)\n",
    "    finalvalue = 0.0\n",
    "    for item in arr:\n",
    "        if item.weight <= W:\n",
    "            W -= item.weight\n",
    "            finalvalue += item.profit\n",
    "        else:\n",
    "            finalvalue += item.profit * W / item.weight\n",
    "            break\n",
    "    return finalvalue\n",
    "    \n",
    "# Driver Code\n",
    "if __name__ == \"__main__\":\n",
    "    W = 80\n",
    "    arr = [Item(50, 40), Item(60, 40), Item(20, 30)]\n",
    "    max_val = fractionalKnapsack(W, arr)\n",
    "    print (max_val)"
   ]
  },
  {
   "cell_type": "markdown",
   "id": "5a87866d-8d1e-4759-bbba-4d54859b6924",
   "metadata": {},
   "source": [
    "## Q16: Greedy approach for job sequencing problem."
   ]
  },
  {
   "cell_type": "code",
   "execution_count": 19,
   "id": "90c65467-c550-4a2a-a7ef-67b4af69e697",
   "metadata": {},
   "outputs": [
    {
     "name": "stdout",
     "output_type": "stream",
     "text": [
      "Following is maximum profit sequence of jobs\n",
      "['e', 'd', 'b']\n"
     ]
    }
   ],
   "source": [
    "def printJobScheduling(arr, t):\n",
    "\tn = len(arr)\n",
    "\tfor i in range(n):\n",
    "\t\tfor j in range(n - 1 - i):\n",
    "\t\t\tif arr[j][2] < arr[j + 1][2]:\n",
    "\t\t\t\tarr[j], arr[j + 1] = arr[j + 1], arr[j]\n",
    "\tresult = [False] * t\n",
    "\tjob = ['-1'] * t\n",
    "\tfor i in range(len(arr)):\n",
    "\t\tfor j in range(min(t - 1, arr[i][1] - 1), -1, -1):\n",
    "\t\t\tif result[j] is False:\n",
    "\t\t\t\tresult[j] = True\n",
    "\t\t\t\tjob[j] = arr[i][0]\n",
    "\t\t\t\tbreak\n",
    "\tprint(job)\n",
    "\n",
    "\n",
    "# Driver's Code\n",
    "if __name__ == '__main__':\n",
    "\tarr = [['d', 2, 100],\n",
    "\t\t\t['a', 1, 19],\n",
    "\t\t\t['e', 2, 27],\n",
    "\t\t\t['c', 1, 25],\n",
    "\t\t\t['b', 3, 15]]\n",
    "\tprint(\"Following is maximum profit sequence of jobs\")\n",
    "\tprintJobScheduling(arr, 3)"
   ]
  },
  {
   "cell_type": "markdown",
   "id": "7d3e4352-3725-4c03-a167-99c2fdd0bdd2",
   "metadata": {},
   "source": [
    "## Q17: Job sequencing problem using Priority-Queue (Max-Heap)."
   ]
  },
  {
   "cell_type": "code",
   "execution_count": 20,
   "id": "52a1cc6f-b22c-4846-966a-f2349589f9f6",
   "metadata": {},
   "outputs": [
    {
     "name": "stdout",
     "output_type": "stream",
     "text": [
      "Following is maximum profit sequence of jobs\n",
      "d b e \n"
     ]
    }
   ],
   "source": [
    "import heapq\n",
    "\n",
    "def printJobScheduling(arr):\n",
    "\tn = len(arr)\n",
    "\tarr.sort(key=lambda x: x[1])\n",
    "\tresult = []\n",
    "\tmaxHeap = []\n",
    "\tfor i in range(n - 1, -1, -1):\n",
    "\t\tif i == 0:\n",
    "\t\t\tslots_available = arr[i][1]\n",
    "\t\telse:\n",
    "\t\t\tslots_available = arr[i][1] - arr[i - 1][1]\n",
    "\t\theapq.heappush(maxHeap, (-arr[i][2], arr[i][1], arr[i][0]))\n",
    "\n",
    "\t\twhile slots_available and maxHeap:\n",
    "\t\t\tprofit, deadline, job_id = heapq.heappop(maxHeap)\n",
    "\t\t\tslots_available -= 1\n",
    "\t\t\tresult.append([job_id, deadline])\n",
    "\tresult.sort(key=lambda x: x[1])\n",
    "\n",
    "\tfor job in result:\n",
    "\t\tprint(job[0], end=\" \")\n",
    "\tprint()\n",
    "\n",
    "\n",
    "# Driver's Code\n",
    "if __name__ == '__main__':\n",
    "\tarr = [['d', 2, 100],\n",
    "           ['a', 1, 19],\n",
    "           ['b', 2, 27],\n",
    "           ['c', 1, 25],\n",
    "           ['e', 3, 15]]\n",
    "\tprint(\"Following is maximum profit sequence of jobs\")\n",
    "\tprintJobScheduling(arr)"
   ]
  },
  {
   "cell_type": "markdown",
   "id": "e16613c8-3ed8-4869-8758-2956f6b36e49",
   "metadata": {},
   "source": [
    "# Student 5 - Akash Bauri (Registration No.- 223001010656 / Roll No.- 30001222055, Section- A)"
   ]
  },
  {
   "cell_type": "markdown",
   "id": "3507587f-6f4a-48ba-a11d-1c7ae53a26bf",
   "metadata": {},
   "source": [
    "## Q18: Prim's Algorithm for Minimum Spanning Tree (MST)."
   ]
  },
  {
   "cell_type": "code",
   "execution_count": 21,
   "id": "01a12e02-a69e-4f48-acbe-75685542f28d",
   "metadata": {},
   "outputs": [
    {
     "name": "stdout",
     "output_type": "stream",
     "text": [
      "Edge \tWeight\n",
      "0 - 1 \t 1\n",
      "1 - 2 \t 2\n",
      "0 - 3 \t 4\n",
      "1 - 4 \t 3\n"
     ]
    }
   ],
   "source": [
    "import sys\n",
    "\n",
    "class Graph():\n",
    "    def __init__(self, vertices):\n",
    "        self.V = vertices\n",
    "        self.graph = [[0 for column in range (vertices)] for row in range (vertices)]\n",
    "        \n",
    "    def printMST (self, parent):\n",
    "        print(\"Edge \\tWeight\")\n",
    "        for i in range(1, self.V):\n",
    "            print (parent[i], \"-\", i, \"\\t\", self.graph[i] [parent[i]])\n",
    "            \n",
    "    def minKey(self, key, mstSet):\n",
    "        min = sys.maxsize\n",
    "        for v in range(self.V):\n",
    "            if key [v] < min and mstSet [v] == False:\n",
    "                min = key [v]\n",
    "                min_index = v\n",
    "        return min_index\n",
    "        \n",
    "    def primMST(self):\n",
    "        key = [sys.maxsize] * self.V\n",
    "        parent = [None] * self.V\n",
    "        key [0] = 0\n",
    "        mstSet = [False] * self.V\n",
    "        parent [0] = -1\n",
    "        for cout in range(self.V):\n",
    "            u = self.minKey (key, mstSet)\n",
    "            mstSet [u] = True\n",
    "            for v in range(self.V):\n",
    "                if self.graph[u][v] > 0 and mstSet[v] == False and key[v] > self.graph[u][v]:\n",
    "                    key [v] = self.graph[u][v]\n",
    "                    parent [v] = u\n",
    "        self.printMST (parent)\n",
    "\n",
    "#Driver's code\n",
    "if __name__ == '__main__':\n",
    "    g = Graph (5)\n",
    "    g.graph = [\n",
    "    [0, 1, 0, 4, 0],\n",
    "    [1, 0, 2, 0, 3],\n",
    "    [0, 2, 0, 5, 0],\n",
    "    [4, 0, 5, 0, 6],\n",
    "    [0, 3, 0, 6, 0]\n",
    "]\n",
    "    g.primMST()"
   ]
  },
  {
   "cell_type": "markdown",
   "id": "d42cf895-c4cb-4d18-a9f4-c69093b57322",
   "metadata": {},
   "source": [
    "## Q19: Kruskal's Minimum Spanning Tree (MST) Algorithm."
   ]
  },
  {
   "cell_type": "code",
   "execution_count": 22,
   "id": "230efe58-d27a-4fed-8986-61156b71b917",
   "metadata": {},
   "outputs": [
    {
     "name": "stdout",
     "output_type": "stream",
     "text": [
      "Edges in the constructed MST\n",
      "0 -- 1 == 1\n",
      "0 -- 2 == 2\n",
      "0 -- 3 == 3\n",
      "1 -- 4 == 5\n",
      "Minimum Spanning Tree 11\n"
     ]
    }
   ],
   "source": [
    "class Graph: \n",
    "\n",
    "\tdef __init__(self, vertices): \n",
    "\t\tself.V = vertices \n",
    "\t\tself.graph = [] \n",
    "\n",
    "\tdef addEdge(self, u, v, w): \n",
    "\t\tself.graph.append([u, v, w]) \n",
    "\n",
    "\tdef find(self, parent, i): \n",
    "\t\tif parent[i] != i: \n",
    "\t\t\tparent[i] = self.find(parent, parent[i]) \n",
    "\t\treturn parent[i] \n",
    "\n",
    "\tdef union(self, parent, rank, x, y): \n",
    "\t\tif rank[x] < rank[y]: \n",
    "\t\t\tparent[x] = y \n",
    "\t\telif rank[x] > rank[y]: \n",
    "\t\t\tparent[y] = x \n",
    "\t\telse: \n",
    "\t\t\tparent[y] = x \n",
    "\t\t\trank[x] += 1\n",
    "\n",
    "\tdef KruskalMST(self): \n",
    "\t\tresult = [] \n",
    "\t\ti = 0\n",
    "\t\te = 0\n",
    "\t\tself.graph = sorted(self.graph, key=lambda item: item[2]) \n",
    "\t\tparent = [] \n",
    "\t\trank = [] \n",
    "\t\tfor node in range(self.V): \n",
    "\t\t\tparent.append(node) \n",
    "\t\t\trank.append(0) \n",
    "\t\twhile e < self.V - 1: \n",
    "\t\t\tu, v, w = self.graph[i] \n",
    "\t\t\ti = i + 1\n",
    "\t\t\tx = self.find(parent, u) \n",
    "\t\t\ty = self.find(parent, v) \n",
    "\t\t\tif x != y: \n",
    "\t\t\t\te = e + 1\n",
    "\t\t\t\tresult.append([u, v, w]) \n",
    "\t\t\t\tself.union(parent, rank, x, y) \n",
    "                \n",
    "\t\tminimumCost = 0\n",
    "\t\tprint(\"Edges in the constructed MST\") \n",
    "\t\tfor u, v, weight in result: \n",
    "\t\t\tminimumCost += weight \n",
    "\t\t\tprint(\"%d -- %d == %d\" % (u, v, weight)) \n",
    "\t\tprint(\"Minimum Spanning Tree\", minimumCost) \n",
    "\n",
    "\n",
    "# Driver code \n",
    "if __name__ == '__main__':\n",
    "    g = Graph(5)\n",
    "    g.addEdge(0, 1, 1)\n",
    "    g.addEdge(0, 2, 2)\n",
    "    g.addEdge(0, 3, 3)\n",
    "    g.addEdge(1, 2, 4)\n",
    "    g.addEdge(1, 4, 5)\n",
    "    g.addEdge(2, 3, 6)\n",
    "    g.addEdge(3, 4, 7)\n",
    "    g.KruskalMST()"
   ]
  },
  {
   "cell_type": "markdown",
   "id": "4fbff217-d4d6-4439-9d97-6df8b5f06253",
   "metadata": {},
   "source": [
    "## Q20. All Pair Shortest Path - Floyd Warshall Algorithm."
   ]
  },
  {
   "cell_type": "code",
   "execution_count": 23,
   "id": "164eae8f-208e-4620-bd67-1ed5d6a9b577",
   "metadata": {},
   "outputs": [
    {
     "name": "stdout",
     "output_type": "stream",
     "text": [
      "Following matrix shows the shortest distanceetween every pair of vertices\n",
      "      0\t       5\t       8\t       9\t \n",
      "    INF       0\t       3\t       4\t \n",
      "    INF     INF       0\t       1\t \n",
      "    INF     INF     INF       0\t \n"
     ]
    }
   ],
   "source": [
    "# Python3 Program for Floyd Warshall Algorithm\n",
    "# Number of vertices in the graph\n",
    "V = 4\n",
    "# Define infinity as the large\n",
    "# enough value. This value will be\n",
    "# used for vertices not connected to each other\n",
    "INF = 99999\n",
    "# Solves all pair shortest path\n",
    "# via Floyd Warshall Algorithm\n",
    "def floydWarshall(graph):\n",
    "    \"\"\" dist[][] will be the output\n",
    "        matrix that will finally\n",
    "        have the shortest distances\n",
    "        between every pair of vertices\n",
    "        initializing the solution matrix\n",
    "        same as input graph matrix\n",
    "        OR we can say that the initial\n",
    "        values of shortest distances\n",
    "        are based on shortest paths considering no\n",
    "        intermediate vertices \"\"\"\n",
    "\n",
    "    dist = list(map(lambda i: list(map(lambda j: j, i)), graph))\n",
    "\n",
    "    \"\"\" Add all vertices one by one\n",
    "        to the set of intermediate\n",
    "        vertices.\n",
    "    ---> Before start of an iteration,\n",
    "    we have shortest distances\n",
    "    between all pairs of vertices\n",
    "    such that the shortest\n",
    "    distances consider only the\n",
    "    vertices in the set\n",
    "    {0, 1, 2, .. k-1} as intermediate vertices.\n",
    "    ----> After the end of a\n",
    "    iteration, vertex no. k is\n",
    "    added to the set of intermediate\n",
    "    vertices and the\n",
    "    set becomes {0, 1, 2, .. k} \"\"\"\n",
    "    \n",
    "    for k in range(V):\n",
    "        # pick all vertices as source one by one\n",
    "        for i in range(V):\n",
    "            # Pick all vertices as destination for the\n",
    "            # above picked source\n",
    "                for j in range(V):\n",
    "                    # If vertex k is on the shortest path from\n",
    "                    # i to j, then update the value of dist[i][j]\n",
    "                    dist[i][j] = min(dist[i][j], dist[i][k] + dist[k][j])\n",
    "    printSolution(dist)\n",
    "\n",
    "\n",
    "# A utility function to print the solution\n",
    "def printSolution(dist):\n",
    "    print(\"Following matrix shows the shortest distances\\between every pair of vertices\")\n",
    "    for i in range(V):\n",
    "        for j in range(V):\n",
    "            if(dist[i][j] == INF):\n",
    "                print(\"%7s\" % (\"INF\"), end=\" \")\n",
    "            else:\n",
    "                print(\"%7d\\t\" % (dist[i][j]), end=' ')\n",
    "            if j == V-1:\n",
    "                print()\n",
    "\n",
    "# Driver's code\n",
    "if __name__ == \"__main__\":\n",
    "    \n",
    "    \"\"\"\n",
    "                  10\n",
    "            (0)------->(3)\n",
    "             |         /|\\\n",
    "           5 |          |\n",
    "             |          | 1\n",
    "            \\|/         |\n",
    "            (1)------->(2) \n",
    "                  3         \n",
    "                                \"\"\"\n",
    "    graph = [[0, 5, INF, 10],\n",
    "            [INF, 0, 3, INF],\n",
    "            [INF, INF, 0, 1],\n",
    "            [INF, INF, INF, 0]\n",
    "            ]\n",
    "# Function call\n",
    "floydWarshall(graph)"
   ]
  }
 ],
 "metadata": {
  "kernelspec": {
   "display_name": "Python 3 (ipykernel)",
   "language": "python",
   "name": "python3"
  },
  "language_info": {
   "codemirror_mode": {
    "name": "ipython",
    "version": 3
   },
   "file_extension": ".py",
   "mimetype": "text/x-python",
   "name": "python",
   "nbconvert_exporter": "python",
   "pygments_lexer": "ipython3",
   "version": "3.11.4"
  }
 },
 "nbformat": 4,
 "nbformat_minor": 5
}
